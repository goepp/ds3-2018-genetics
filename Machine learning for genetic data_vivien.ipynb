{
 "cells": [
  {
   "cell_type": "markdown",
   "metadata": {},
   "source": [
    "# Machine learning for genetic data"
   ]
  },
  {
   "cell_type": "markdown",
   "metadata": {},
   "source": [
    "## Introduction\n",
    "\n",
    "The goal of this practical session is to manipulate high-dimensional, low sample-size data that is typical of many genetic applications.\n",
    "\n",
    "Here we will work with GWAS data from _Arabidopsis thaliana_, which is a plant model organism. The genotypes are hence described by **Single Nucleotide Polymorphisms, or SNPs**. Our goal will be to use this data to identify regions of the genome that can be linked with various growth and flowering traits (**phenotypes**)."
   ]
  },
  {
   "cell_type": "markdown",
   "metadata": {},
   "source": [
    "## Data description\n",
    "\n",
    "* `data/athaliana_small.X.txt` is the design matrix. As many rows as samples, as many columns as SNPs\n",
    "* the SNPs are given (in order) in `data/athaliana_small.snps.txt`. \n",
    "* the samples are given (in order) in `data/athaliana.samples.txt`.\n",
    "\n",
    "* the phenotypes are given in `data/phenotypes.pheno`. The first two columns give the sample's ID, and all following columns give a phenotype. The header gives the list of all phenotypes. In this session we will use \"2W\" and \"4W\", which give the number of days by which the plant grows to be 5 centimeters tall, after either two weeks (\"2W\") or four weeks (\"4W\") of vernalization (i.e. the seeds are kept at cold temperatures, similar to winter). Not all phenotypes are available for all samples.\n",
    "\n",
    "* `data/athaliana.snps_by_gene.txt` contains, for each _A. thaliana_ SNP, the list of genes it is in or near to. (This can be several genes, as it is customary to use a rather large window to compute this, so as to capture potential cis-regulatory effects.)\n",
    "\n",
    "* the feature network is in `data/athaliana_small.W.txt`. It has been saved as 3 arrays, corresponding to the row, col, and data attributes of a [scipy.sparse coo_matrix](https://docs.scipy.org/doc/scipy/reference/generated/scipy.sparse.coo_matrix.html)."
   ]
  },
  {
   "cell_type": "markdown",
   "metadata": {},
   "source": [
    "## Loading the data"
   ]
  },
  {
   "cell_type": "code",
   "execution_count": 2,
   "metadata": {},
   "outputs": [
    {
     "name": "stdout",
     "output_type": "stream",
     "text": [
      "Populating the interactive namespace from numpy and matplotlib\n"
     ]
    }
   ],
   "source": [
    "%pylab inline\n",
    "#get_ipython().run_line_magic('pylab', 'inline')"
   ]
  },
  {
   "cell_type": "markdown",
   "metadata": {},
   "source": [
    "#### Read the list of SNP names"
   ]
  },
  {
   "cell_type": "code",
   "execution_count": 3,
   "metadata": {},
   "outputs": [
    {
     "name": "stdout",
     "output_type": "stream",
     "text": [
      "9419 ['Chr1_21043_T', 'Chr1_21128_T', 'Chr1_21829_C', 'Chr1_22522_G', 'Chr1_27265_C', 'Chr1_29291_A', 'Chr1_31515_G', 'Chr1_32807_A', 'Chr1_35856_C', 'Chr1_37072_G']\n"
     ]
    }
   ],
   "source": [
    "with open('data/athaliana_small.snps.txt') as f:\n",
    "    snp_names = f.readline().split()\n",
    "    f.close()\n",
    "print(len(snp_names), snp_names[:10])"
   ]
  },
  {
   "cell_type": "markdown",
   "metadata": {},
   "source": [
    "#### Read the list of sample names"
   ]
  },
  {
   "cell_type": "code",
   "execution_count": 4,
   "metadata": {},
   "outputs": [
    {
     "name": "stdout",
     "output_type": "stream",
     "text": [
      "1307 \n",
      " [9381, 9380, 9378, 9371, 9367, 9363, 9356, 9355, 9354, 9353]\n"
     ]
    }
   ],
   "source": [
    "samples = list(np.loadtxt('data/athaliana.samples.txt', # file names\n",
    "                         dtype=int)) # values are integers\n",
    "print(len(samples), '\\n', samples[:10])"
   ]
  },
  {
   "cell_type": "markdown",
   "metadata": {},
   "source": [
    "#### Load the design matrix (n samples x p SNPs)"
   ]
  },
  {
   "cell_type": "code",
   "execution_count": 5,
   "metadata": {},
   "outputs": [],
   "source": [
    "X = np.loadtxt('data/athaliana_small.X.txt',  # file names\n",
    "               dtype='int') # values are integers"
   ]
  },
  {
   "cell_type": "code",
   "execution_count": 6,
   "metadata": {},
   "outputs": [
    {
     "name": "stdout",
     "output_type": "stream",
     "text": [
      "1307 9419\n"
     ]
    }
   ],
   "source": [
    "n, p = X.shape\n",
    "print(n, p)"
   ]
  },
  {
   "cell_type": "markdown",
   "metadata": {},
   "source": [
    "#### Load the 2W phenotype data\n",
    "\n",
    "The first phenotype we will work with is called \"2W\". It describes the number of days required for the bolt height to reach 5 cm, at a temperature of 23°C under 16 hours of daylight per 24 hours, for seeds that have been vernalized for 2 weeks at 5°C (with 8 hours of daylight per 24 hours)."
   ]
  },
  {
   "cell_type": "code",
   "execution_count": 7,
   "metadata": {},
   "outputs": [],
   "source": [
    "import pandas as pd"
   ]
  },
  {
   "cell_type": "code",
   "execution_count": 8,
   "metadata": {},
   "outputs": [],
   "source": [
    "# TODO\n",
    "# read phenotypes from phenotypes.pheno\n",
    "# only keep samples that have a 2W phenotype.\n",
    "phenotypes = pd.read_csv(\"data/phenotypes.pheno\", sep = \" \")"
   ]
  },
  {
   "cell_type": "code",
   "execution_count": 9,
   "metadata": {},
   "outputs": [
    {
     "data": {
      "text/plain": [
       "0      NaN\n",
       "1      NaN\n",
       "2      NaN\n",
       "3      NaN\n",
       "4      NaN\n",
       "        ..\n",
       "1302   NaN\n",
       "1303   NaN\n",
       "1304   NaN\n",
       "1305   NaN\n",
       "1306   NaN\n",
       "Name: 2W, Length: 1307, dtype: float64"
      ]
     },
     "execution_count": 9,
     "metadata": {},
     "output_type": "execute_result"
    }
   ],
   "source": [
    "phenotypes[\"2W\"]"
   ]
  },
  {
   "cell_type": "code",
   "execution_count": 10,
   "metadata": {},
   "outputs": [],
   "source": [
    "y_2W = phenotypes.loc[~np.isnan(phenotypes[\"2W\"]), \"2W\"]"
   ]
  },
  {
   "cell_type": "code",
   "execution_count": 11,
   "metadata": {},
   "outputs": [
    {
     "data": {
      "text/plain": [
       "404     55.8\n",
       "802     21.2\n",
       "806     28.6\n",
       "807     25.8\n",
       "808     23.8\n",
       "        ... \n",
       "1062    19.8\n",
       "1064    22.0\n",
       "1065    17.0\n",
       "1066    24.4\n",
       "1067    19.4\n",
       "Name: 2W, Length: 152, dtype: float64"
      ]
     },
     "execution_count": 11,
     "metadata": {},
     "output_type": "execute_result"
    }
   ],
   "source": [
    "y_2W"
   ]
  },
  {
   "cell_type": "code",
   "execution_count": 12,
   "metadata": {},
   "outputs": [],
   "source": [
    "samples_with_phenotype = phenotypes[~np.isnan(phenotypes[\"2W\"])][\"FID\"]"
   ]
  },
  {
   "cell_type": "code",
   "execution_count": 13,
   "metadata": {},
   "outputs": [
    {
     "name": "stdout",
     "output_type": "stream",
     "text": [
      "152 9419\n"
     ]
    }
   ],
   "source": [
    "# Restrict X to the samples with a 2W phenotype, in correct order\n",
    "# X_2W[i] = X[samples.index(samples_with_phenotype[i])]\n",
    "X_2W = X[np.array([samples.index(sample_id) for sample_id in samples_with_phenotype]), :]\n",
    "n, p = X_2W.shape\n",
    "print(n, p)"
   ]
  },
  {
   "cell_type": "code",
   "execution_count": 14,
   "metadata": {},
   "outputs": [
    {
     "data": {
      "text/plain": [
       "404     55.8\n",
       "802     21.2\n",
       "806     28.6\n",
       "807     25.8\n",
       "808     23.8\n",
       "        ... \n",
       "1062    19.8\n",
       "1064    22.0\n",
       "1065    17.0\n",
       "1066    24.4\n",
       "1067    19.4\n",
       "Name: 2W, Length: 152, dtype: float64"
      ]
     },
     "execution_count": 14,
     "metadata": {},
     "output_type": "execute_result"
    }
   ],
   "source": [
    "y_2W"
   ]
  },
  {
   "cell_type": "code",
   "execution_count": 15,
   "metadata": {},
   "outputs": [],
   "source": [
    "# You can delete X now if you want, to free space\n",
    "del X"
   ]
  },
  {
   "cell_type": "markdown",
   "metadata": {},
   "source": [
    "## Split the data in a train and test set\n",
    "\n",
    "We will set aside a test set, containing 20% of our samples, on which to evaluate the quality of our predictive models."
   ]
  },
  {
   "cell_type": "code",
   "execution_count": 16,
   "metadata": {},
   "outputs": [],
   "source": [
    "from sklearn import model_selection"
   ]
  },
  {
   "cell_type": "code",
   "execution_count": 17,
   "metadata": {},
   "outputs": [
    {
     "name": "stdout",
     "output_type": "stream",
     "text": [
      "(121, 9419) (31, 9419)\n"
     ]
    }
   ],
   "source": [
    "X_2W_tr, X_2W_te, y_2W_tr, y_2W_te = \\\n",
    "    model_selection.train_test_split(X_2W, y_2W, test_size=0.2, \n",
    "                                     random_state=17)\n",
    "print(X_2W_tr.shape, X_2W_te.shape)"
   ]
  },
  {
   "cell_type": "markdown",
   "metadata": {},
   "source": [
    "## Visualize the phenotype"
   ]
  },
  {
   "cell_type": "code",
   "execution_count": 18,
   "metadata": {},
   "outputs": [
    {
     "data": {
      "image/png": "[encoded data removed]",
      "text/plain": [
       "<Figure size 432x288 with 1 Axes>"
      ]
     },
     "metadata": {
      "needs_background": "light"
     },
     "output_type": "display_data"
    }
   ],
   "source": [
    "h = plt.hist(y_2W_tr, bins=30)"
   ]
  },
  {
   "cell_type": "markdown",
   "metadata": {},
   "source": [
    "## T-test\n",
    "\n",
    "Let us start by running a statistical test for association of each SNP feature with the phenotype."
   ]
  },
  {
   "cell_type": "code",
   "execution_count": 19,
   "metadata": {},
   "outputs": [],
   "source": [
    "import statsmodels.api as sm"
   ]
  },
  {
   "cell_type": "code",
   "execution_count": 28,
   "metadata": {},
   "outputs": [
    {
     "data": {
      "text/plain": [
       "9419"
      ]
     },
     "execution_count": 28,
     "metadata": {},
     "output_type": "execute_result"
    }
   ],
   "source": [
    "## This is a duplicate of a previous cell, should be deleted\n",
    "## p = X_2W_tr.shape[1]"
   ]
  },
  {
   "cell_type": "code",
   "execution_count": 20,
   "metadata": {},
   "outputs": [
    {
     "data": {
      "text/plain": [
       "(152, 2)"
      ]
     },
     "execution_count": 20,
     "metadata": {},
     "output_type": "execute_result"
    }
   ],
   "source": [
    "X_snp = sm.add_constant(X_2W[:, 0])\n",
    "X_snp.shape"
   ]
  },
  {
   "cell_type": "code",
   "execution_count": 21,
   "metadata": {},
   "outputs": [
    {
     "data": {
      "text/plain": [
       "const    6.939645e-21\n",
       "x1       3.237532e-01\n",
       "dtype: float64"
      ]
     },
     "execution_count": 21,
     "metadata": {},
     "output_type": "execute_result"
    }
   ],
   "source": [
    "#X_2W_tr[:, 0]\n",
    "X_snp = sm.add_constant(X_2W_tr[:, 0])\n",
    "model = sm.regression.linear_model.OLS(y_2W_tr, X_snp)\n",
    "model.fit().pvalues"
   ]
  },
  {
   "cell_type": "code",
   "execution_count": 29,
   "metadata": {},
   "outputs": [
    {
     "data": {
      "text/plain": [
       "0.32375321392638"
      ]
     },
     "execution_count": 29,
     "metadata": {},
     "output_type": "execute_result"
    }
   ],
   "source": [
    "## Test cell\n",
    "snp_idx = 0\n",
    "X8snp = X_2W_tr[:, snp_idx]\n",
    "X_snp = sm.add_constant(X_snp)\n",
    "est = sm.regression.linear_model.OLS(y_2W_tr, X_snp)\n",
    "est2 = est.fit()\n",
    "est2.pvalues[1]"
   ]
  },
  {
   "cell_type": "code",
   "execution_count": 30,
   "metadata": {},
   "outputs": [],
   "source": [
    "pvalues = []\n",
    "for snp_idx in range(p):\n",
    "    # only look a the column corresponding to that SNP\n",
    "    X_snp = X_2W_tr[:, snp_idx]\n",
    "    # run a linear regression (with bias) between the phenotype and \n",
    "    # this SNP\n",
    "    X_snp = sm.add_constant(X_snp)\n",
    "    est = sm.regression.linear_model.OLS(y_2W_tr, X_snp)\n",
    "    est2 = est.fit()\n",
    "    # get the p-value from the model \n",
    "    pvalues.append(est2.pvalues[1])\n",
    "pvalues = np.array(pvalues)"
   ]
  },
  {
   "cell_type": "code",
   "execution_count": 31,
   "metadata": {},
   "outputs": [
    {
     "data": {
      "text/plain": [
       "<matplotlib.collections.PathCollection at 0x7f523d2cbdf0>"
      ]
     },
     "execution_count": 31,
     "metadata": {},
     "output_type": "execute_result"
    },
    {
     "data": {
      "image/png": "[encoded data removed]",
      "text/plain": [
       "<Figure size 432x288 with 1 Axes>"
      ]
     },
     "metadata": {
      "needs_background": "light"
     },
     "output_type": "display_data"
    }
   ],
   "source": [
    "plt.scatter(range(p), -np.log10(pvalues))"
   ]
  },
  {
   "cell_type": "code",
   "execution_count": 36,
   "metadata": {},
   "outputs": [
    {
     "name": "stdout",
     "output_type": "stream",
     "text": [
      "(120, 9419) (121, 9419)\n"
     ]
    },
    {
     "data": {
      "text/plain": [
       "array([  0,   1,   2,   3,   4,   5,   6,   7,   8,   9,  10,  11,  12,\n",
       "        13,  14,  15,  16,  17,  18,  19,  20,  21,  22,  23,  24,  25,\n",
       "        26,  27,  28,  29,  30,  31,  32,  33,  34,  35,  36,  37,  38,\n",
       "        39,  40,  41,  42,  43,  44,  45,  46,  47,  48,  49,  50,  51,\n",
       "        52,  53,  54,  55,  56,  57,  58,  59,  60,  61,  62,  63,  64,\n",
       "        65,  66,  67,  68,  69,  70,  71,  72,  73,  74,  75,  76,  77,\n",
       "        78,  79,  80,  81,  82,  83,  84,  85,  86,  87,  88,  89,  90,\n",
       "        91,  92,  93,  94,  95,  96,  97,  98,  99, 100, 101, 102, 103,\n",
       "       104, 105, 106, 107, 108, 109, 110, 111, 112, 113, 114, 115, 116,\n",
       "       117, 118, 119])"
      ]
     },
     "execution_count": 36,
     "metadata": {},
     "output_type": "execute_result"
    }
   ],
   "source": []
  },
  {
   "cell_type": "code",
   "execution_count": 33,
   "metadata": {},
   "outputs": [
    {
     "data": {
      "text/plain": [
       "<matplotlib.collections.PathCollection at 0x7f523d23d520>"
      ]
     },
     "execution_count": 33,
     "metadata": {},
     "output_type": "execute_result"
    },
    {
     "data": {
      "image/png": "[encoded data removed]",
      "text/plain": [
       "<Figure size 432x288 with 1 Axes>"
      ]
     },
     "metadata": {
      "needs_background": "light"
     },
     "output_type": "display_data"
    }
   ],
   "source": [
    "model = sm.regression.linear_model.OLS(y_2W_tr, sm.add_constant(X_2W_tr[:, arange(120)]))\n",
    "est = model.fit()\n",
    "pvalues2 = est.pvalues\n",
    "plt.scatter(range(len(pvalues2)), -log10(pvalues2))\n"
   ]
  },
  {
   "cell_type": "code",
   "execution_count": 48,
   "metadata": {},
   "outputs": [
    {
     "data": {
      "text/plain": [
       "<matplotlib.collections.PathCollection at 0x7fd97bd3f790>"
      ]
     },
     "execution_count": 48,
     "metadata": {},
     "output_type": "execute_result"
    },
    {
     "data": {
      "image/png": "[encoded data removed]",
      "text/plain": [
       "<Figure size 432x288 with 1 Axes>"
      ]
     },
     "metadata": {
      "needs_background": "light"
     },
     "output_type": "display_data"
    }
   ],
   "source": [
    "plt.scatter(range(len(pvalues2)), -log10(pvalues[range(len(pvalues2))]))"
   ]
  },
  {
   "cell_type": "markdown",
   "metadata": {},
   "source": [
    "### Manhattan plot\n",
    "\n",
    "The common way to visualize such results is by using a Manhattan plot: we will plot all SNPs on the x-axis, and on the y-axis we'll have the opposite of the log base 10 of the p-value. The lower the p-value, the higher the corresponding marker. \n",
    "\n",
    "We will also add a horizontal line that corresponds to the _threshold for significance_. Because we are testing multiple hypotheses, we need to lower our threshold accordingly. We will use __Bonferroni correction__ and divide the significance threshold (say, alpha=0.05) by the number of tests, that is, the number of SNPs p."
   ]
  },
  {
   "cell_type": "code",
   "execution_count": 49,
   "metadata": {},
   "outputs": [
    {
     "data": {
      "text/plain": [
       "(0.0, 9419.0)"
      ]
     },
     "execution_count": 49,
     "metadata": {},
     "output_type": "execute_result"
    },
    {
     "data": {
      "image/png": "[encoded data removed]",
      "text/plain": [
       "<Figure size 432x288 with 1 Axes>"
      ]
     },
     "metadata": {
      "needs_background": "light"
     },
     "output_type": "display_data"
    }
   ],
   "source": [
    "plt.scatter(range(p), # x = SNP position\n",
    "            -np.log10(pvalues)) # y = -log10 p-value \n",
    "\n",
    "# significance threshold according to Bonferroni correction\n",
    "t = -np.log10(0.05 / p)\n",
    "plt.plot([0, p], [t, t])\n",
    "\n",
    "# plot labels\n",
    "plt.xlabel(\"index of feature\")\n",
    "plt.ylabel(\"-log10 p-value\")\n",
    "plt.xlim([0, p])"
   ]
  },
  {
   "cell_type": "markdown",
   "metadata": {},
   "source": [
    "__What do you observe? Are any SNPs significantly associated with the phenotype? What genes are they in/near?__"
   ]
  },
  {
   "cell_type": "markdown",
   "metadata": {},
   "source": [
    "## Linear regression "
   ]
  },
  {
   "cell_type": "code",
   "execution_count": 50,
   "metadata": {},
   "outputs": [],
   "source": [
    "from sklearn import linear_model"
   ]
  },
  {
   "cell_type": "code",
   "execution_count": 51,
   "metadata": {},
   "outputs": [
    {
     "data": {
      "text/plain": [
       "LinearRegression()"
      ]
     },
     "execution_count": 51,
     "metadata": {},
     "output_type": "execute_result"
    }
   ],
   "source": [
    "model_lr = linear_model.LinearRegression(fit_intercept=True)\n",
    "model_lr.fit(X_2W_tr, y_2W_tr)"
   ]
  },
  {
   "cell_type": "code",
   "execution_count": 52,
   "metadata": {},
   "outputs": [
    {
     "data": {
      "text/plain": [
       "(0.0, 9419.0)"
      ]
     },
     "execution_count": 52,
     "metadata": {},
     "output_type": "execute_result"
    },
    {
     "data": {
      "image/png": "[encoded data removed]",
      "text/plain": [
       "<Figure size 432x288 with 1 Axes>"
      ]
     },
     "metadata": {
      "needs_background": "light"
     },
     "output_type": "display_data"
    }
   ],
   "source": [
    "plt.figure(figsize=(6, 4))\n",
    "plt.scatter(range(p), # x = SNP position\n",
    "            model_lr.coef_)  # y = regression weights\n",
    "\n",
    "plt.xlabel(\"SNP\")\n",
    "plt.ylabel(\"regression weight\")\n",
    "plt.xlim([0, p])"
   ]
  },
  {
   "cell_type": "markdown",
   "metadata": {},
   "source": [
    "__What do you observe? How can you interpret these results? Do any of the SNPs strike you as having a strong influence on the phenotype?__"
   ]
  },
  {
   "cell_type": "markdown",
   "metadata": {},
   "source": [
    "### Model predictive power"
   ]
  },
  {
   "cell_type": "code",
   "execution_count": 54,
   "metadata": {},
   "outputs": [],
   "source": [
    "from sklearn import metrics"
   ]
  },
  {
   "cell_type": "code",
   "execution_count": 55,
   "metadata": {},
   "outputs": [
    {
     "name": "stdout",
     "output_type": "stream",
     "text": [
      "Percentage of variance explained (using all SNPs): 0.73\n"
     ]
    }
   ],
   "source": [
    "y_2W_lr_pred = model_lr.predict(X_2W_te)\n",
    "\n",
    "print(\"Percentage of variance explained (using all SNPs): %.2f\" % \\\n",
    "    metrics.explained_variance_score(y_2W_te, y_2W_lr_pred))"
   ]
  },
  {
   "cell_type": "code",
   "execution_count": 72,
   "metadata": {},
   "outputs": [
    {
     "data": {
      "text/plain": [
       "(9.0, 130.0)"
      ]
     },
     "execution_count": 72,
     "metadata": {},
     "output_type": "execute_result"
    },
    {
     "data": {
      "image/png": "[encoded data removed]",
      "text/plain": [
       "<Figure size 432x432 with 1 Axes>"
      ]
     },
     "metadata": {
      "needs_background": "light"
     },
     "output_type": "display_data"
    }
   ],
   "source": [
    "plt.figure(figsize = (6, 6))\n",
    "plt.scatter(y_2W_te, y_2W_lr_pred)\n",
    "plt.plot([20, 120], [20, 120], c = \"red\")\n",
    "plt.xlabel(\"true phenotype\")\n",
    "plt.ylabel(\"prediction\")\n",
    "plt.xlim([np.min(y_2W_te) - 5, np.max(y_2W_te) + 5])\n",
    "plt.ylim([np.min(y_2W_te) - 5, np.max(y_2W_te) + 5])"
   ]
  },
  {
   "cell_type": "markdown",
   "metadata": {},
   "source": [
    "## Lasso"
   ]
  },
  {
   "cell_type": "code",
   "execution_count": 43,
   "metadata": {},
   "outputs": [],
   "source": [
    "alphas = np.logspace(-4., 1., num = 20)"
   ]
  },
  {
   "cell_type": "code",
   "execution_count": 44,
   "metadata": {},
   "outputs": [
    {
     "ename": "NameError",
     "evalue": "name 'linear_model' is not defined",
     "output_type": "error",
     "traceback": [
      "\u001b[0;31m--------------------------------------------------------------------------\u001b[0m",
      "\u001b[0;31mNameError\u001b[0m                                Traceback (most recent call last)",
      "\u001b[0;32m<ipython-input-44-ffa1a876ed05>\u001b[0m in \u001b[0;36m<module>\u001b[0;34m\u001b[0m\n\u001b[0;32m----> 1\u001b[0;31m \u001b[0mlasso\u001b[0m \u001b[0;34m=\u001b[0m \u001b[0mlinear_model\u001b[0m\u001b[0;34m.\u001b[0m\u001b[0mLasso\u001b[0m\u001b[0;34m(\u001b[0m\u001b[0mfit_intercept\u001b[0m \u001b[0;34m=\u001b[0m \u001b[0;32mTrue\u001b[0m\u001b[0;34m)\u001b[0m\u001b[0;34m\u001b[0m\u001b[0;34m\u001b[0m\u001b[0m\n\u001b[0m\u001b[1;32m      2\u001b[0m model_l1 = model_selection.GridSearchCV(lasso, \n\u001b[1;32m      3\u001b[0m                                         \u001b[0mparam_grid\u001b[0m \u001b[0;34m=\u001b[0m \u001b[0;34m{\u001b[0m\u001b[0;34m'alpha'\u001b[0m\u001b[0;34m:\u001b[0m \u001b[0malphas\u001b[0m\u001b[0;34m}\u001b[0m\u001b[0;34m,\u001b[0m\u001b[0;34m\u001b[0m\u001b[0;34m\u001b[0m\u001b[0m\n\u001b[1;32m      4\u001b[0m                                         scoring = 'explained_variance')\n\u001b[1;32m      5\u001b[0m \u001b[0mmodel_l1\u001b[0m\u001b[0;34m.\u001b[0m\u001b[0mfit\u001b[0m\u001b[0;34m(\u001b[0m\u001b[0mX_2W_tr\u001b[0m\u001b[0;34m,\u001b[0m \u001b[0my_2W_tr\u001b[0m\u001b[0;34m)\u001b[0m\u001b[0;34m\u001b[0m\u001b[0;34m\u001b[0m\u001b[0m\n",
      "\u001b[0;31mNameError\u001b[0m: name 'linear_model' is not defined"
     ]
    }
   ],
   "source": [
    "lasso = linear_model.Lasso(fit_intercept = True)\n",
    "model_l1 = model_selection.GridSearchCV(lasso, \n",
    "                                        param_grid = {'alpha': alphas}, \n",
    "                                        scoring = 'explained_variance')\n",
    "model_l1.fit(X_2W_tr, y_2W_tr)"
   ]
  },
  {
   "cell_type": "code",
   "execution_count": 77,
   "metadata": {},
   "outputs": [
    {
     "data": {
      "text/plain": [
       "(0.0, 9419.0)"
      ]
     },
     "execution_count": 77,
     "metadata": {},
     "output_type": "execute_result"
    },
    {
     "data": {
      "image/png": "[encoded data removed]",
      "text/plain": [
       "<Figure size 432x288 with 1 Axes>"
      ]
     },
     "metadata": {
      "needs_background": "light"
     },
     "output_type": "display_data"
    }
   ],
   "source": [
    "plt.figure(figsize = (6, 4))\n",
    "plt.scatter(range(p), # x = SNP position\n",
    "            model_l1.best_estimator_.coef_)  # y = regression weights\n",
    "\n",
    "plt.xlabel(\"SNP\")\n",
    "plt.ylabel(\"lasso regression weight\")\n",
    "plt.xlim([0, p])"
   ]
  },
  {
   "cell_type": "markdown",
   "metadata": {},
   "source": [
    "__How can you interpret these results? How many SNPs contribute to explaining the phenotype?__"
   ]
  },
  {
   "cell_type": "code",
   "execution_count": 83,
   "metadata": {},
   "outputs": [
    {
     "name": "stdout",
     "output_type": "stream",
     "text": [
      "170 SNPs selected.\n"
     ]
    }
   ],
   "source": [
    "print(\"%d SNPs selected.\" % \\\n",
    "    np.nonzero(model_l1.best_estimator_.coef_)[0].shape)"
   ]
  },
  {
   "cell_type": "markdown",
   "metadata": {},
   "source": [
    "### Predictive power "
   ]
  },
  {
   "cell_type": "code",
   "execution_count": 84,
   "metadata": {},
   "outputs": [
    {
     "name": "stdout",
     "output_type": "stream",
     "text": [
      "Percentage of variance explained (using 170 SNPs): 0.60\n"
     ]
    }
   ],
   "source": [
    "y_2W_l1_pred = model_l1.best_estimator_.predict(X_2W_te)\n",
    "\n",
    "print(\"Percentage of variance explained (using %d SNPs): %.2f\" % \\\n",
    "     (np.nonzero(model_l1.best_estimator_.coef_)[0].shape[0], \n",
    "      metrics.explained_variance_score(y_2W_te, y_2W_l1_pred)))"
   ]
  },
  {
   "cell_type": "code",
   "execution_count": 88,
   "metadata": {},
   "outputs": [
    {
     "data": {
      "text/plain": [
       "(13.95, 125.05)"
      ]
     },
     "execution_count": 88,
     "metadata": {},
     "output_type": "execute_result"
    },
    {
     "data": {
      "image/png": "[encoded data removed]",
      "text/plain": [
       "<Figure size 432x432 with 1 Axes>"
      ]
     },
     "metadata": {
      "needs_background": "light"
     },
     "output_type": "display_data"
    }
   ],
   "source": [
    "plt.figure(figsize = (6, 6))\n",
    "plt.scatter(y_2W_te, y_2W_l1_pred)\n",
    "plt.plot([20, 120], [20, 120], c = \"red\")\n",
    "plt.xlabel(\"true phenotype\")\n",
    "plt.ylabel(\"prediction\")\n",
    "plt.xlim([np.min(y_2W_te) - 0.05, np.max(y_2W_te) + 0.05])\n",
    "plt.ylim([np.min(y_2W_te) - 0.05, np.max(y_2W_te) + 0.05])"
   ]
  },
  {
   "cell_type": "markdown",
   "metadata": {},
   "source": [
    "### Stability\n",
    "\n",
    "__How stable is the set of selected SNPs, between the different rounds of cross-validation with optimal parameters?__\n",
    "\n",
    "You can use [sklearn.metrics.jaccard_similarity_score](http://scikit-learn.org/stable/modules/generated/sklearn.metrics.jaccard_similarity_score.html), or implement Kuncheva's consistency index."
   ]
  },
  {
   "cell_type": "code",
   "execution_count": null,
   "metadata": {},
   "outputs": [],
   "source": []
  },
  {
   "cell_type": "markdown",
   "metadata": {},
   "source": [
    "__Note:__ One could also contemplate using the Jaccard similarity (or another measure of consistency/stability/robustness) as a criterion to select the best hyperparameters. Pay attention, however, to the fact that hyperparameters selecting no features at all or all the features will have very good consistency."
   ]
  },
  {
   "cell_type": "code",
   "execution_count": null,
   "metadata": {},
   "outputs": [],
   "source": []
  },
  {
   "cell_type": "markdown",
   "metadata": {},
   "source": [
    "## Elastic net\n",
    "\n",
    "One solution to make the lasso more stable is to use a combination of the l1 and l2 regularizations.\n",
    "\n",
    "We are now minimizing the loss + a linear combination of an l1-norm and an l2-norm over the regression weights. This imposes sparsity, but encourages correlated features to be selected together, where the lasso would tend to pick only one (at random) of a group of correlated features.\n",
    "\n",
    "The elastic net is implemented in scikit-learn's [linear_model.ElasticNet](http://scikit-learn.org/stable/modules/generated/sklearn.linear_model.ElasticNet.html#sklearn.linear_model.ElasticNet)."
   ]
  },
  {
   "cell_type": "code",
   "execution_count": 46,
   "metadata": {},
   "outputs": [],
   "source": [
    "from sklearn import linear_model"
   ]
  },
  {
   "cell_type": "code",
   "execution_count": 47,
   "metadata": {},
   "outputs": [],
   "source": [
    "# Parameters grid\n",
    "alphas = np.logspace(-4., 1., num = 15)\n",
    "ratios = np.linspace(0.5, 1., num = 3)"
   ]
  },
  {
   "cell_type": "code",
   "execution_count": 48,
   "metadata": {},
   "outputs": [
    {
     "name": "stderr",
     "output_type": "stream",
     "text": [
      "/home/vivien/anaconda3/envs/mlgen/lib/python3.8/site-packages/sklearn/linear_model/_coordinate_descent.py:530: ConvergenceWarning: Objective did not converge. You might want to increase the number of iterations. Duality gap: 15.644529598306793, tolerance: 12.711796489583337\n",
      "  model = cd_fast.enet_coordinate_descent(\n",
      "/home/vivien/anaconda3/envs/mlgen/lib/python3.8/site-packages/sklearn/linear_model/_coordinate_descent.py:530: ConvergenceWarning: Objective did not converge. You might want to increase the number of iterations. Duality gap: 16.52658179618194, tolerance: 13.814679773195875\n",
      "  model = cd_fast.enet_coordinate_descent(\n",
      "/home/vivien/anaconda3/envs/mlgen/lib/python3.8/site-packages/sklearn/linear_model/_coordinate_descent.py:530: ConvergenceWarning: Objective did not converge. You might want to increase the number of iterations. Duality gap: 15.227865444944483, tolerance: 11.77034608247423\n",
      "  model = cd_fast.enet_coordinate_descent(\n",
      "/home/vivien/anaconda3/envs/mlgen/lib/python3.8/site-packages/sklearn/linear_model/_coordinate_descent.py:530: ConvergenceWarning: Objective did not converge. You might want to increase the number of iterations. Duality gap: 17.411604228808468, tolerance: 14.143505917525772\n",
      "  model = cd_fast.enet_coordinate_descent(\n",
      "/home/vivien/anaconda3/envs/mlgen/lib/python3.8/site-packages/sklearn/linear_model/_coordinate_descent.py:530: ConvergenceWarning: Objective did not converge. You might want to increase the number of iterations. Duality gap: 15.910576780521472, tolerance: 12.768815958762888\n",
      "  model = cd_fast.enet_coordinate_descent(\n",
      "/home/vivien/anaconda3/envs/mlgen/lib/python3.8/site-packages/sklearn/linear_model/_coordinate_descent.py:530: ConvergenceWarning: Objective did not converge. You might want to increase the number of iterations. Duality gap: 14.887751121760399, tolerance: 12.711796489583337\n",
      "  model = cd_fast.enet_coordinate_descent(\n",
      "/home/vivien/anaconda3/envs/mlgen/lib/python3.8/site-packages/sklearn/linear_model/_coordinate_descent.py:530: ConvergenceWarning: Objective did not converge. You might want to increase the number of iterations. Duality gap: 15.42629583622519, tolerance: 13.814679773195875\n",
      "  model = cd_fast.enet_coordinate_descent(\n",
      "/home/vivien/anaconda3/envs/mlgen/lib/python3.8/site-packages/sklearn/linear_model/_coordinate_descent.py:530: ConvergenceWarning: Objective did not converge. You might want to increase the number of iterations. Duality gap: 14.700233820124723, tolerance: 11.77034608247423\n",
      "  model = cd_fast.enet_coordinate_descent(\n",
      "/home/vivien/anaconda3/envs/mlgen/lib/python3.8/site-packages/sklearn/linear_model/_coordinate_descent.py:530: ConvergenceWarning: Objective did not converge. You might want to increase the number of iterations. Duality gap: 16.550590907280277, tolerance: 14.143505917525772\n",
      "  model = cd_fast.enet_coordinate_descent(\n",
      "/home/vivien/anaconda3/envs/mlgen/lib/python3.8/site-packages/sklearn/linear_model/_coordinate_descent.py:530: ConvergenceWarning: Objective did not converge. You might want to increase the number of iterations. Duality gap: 15.324015660462537, tolerance: 12.768815958762888\n",
      "  model = cd_fast.enet_coordinate_descent(\n",
      "/home/vivien/anaconda3/envs/mlgen/lib/python3.8/site-packages/sklearn/linear_model/_coordinate_descent.py:530: ConvergenceWarning: Objective did not converge. You might want to increase the number of iterations. Duality gap: 12.43248588169641, tolerance: 11.77034608247423\n",
      "  model = cd_fast.enet_coordinate_descent(\n",
      "/home/vivien/anaconda3/envs/mlgen/lib/python3.8/site-packages/sklearn/linear_model/_coordinate_descent.py:530: ConvergenceWarning: Objective did not converge. You might want to increase the number of iterations. Duality gap: 13.064749756919667, tolerance: 12.768815958762888\n",
      "  model = cd_fast.enet_coordinate_descent(\n",
      "/home/vivien/anaconda3/envs/mlgen/lib/python3.8/site-packages/sklearn/linear_model/_coordinate_descent.py:530: ConvergenceWarning: Objective did not converge. You might want to increase the number of iterations. Duality gap: 24.356897308625648, tolerance: 12.711796489583337\n",
      "  model = cd_fast.enet_coordinate_descent(\n",
      "/home/vivien/anaconda3/envs/mlgen/lib/python3.8/site-packages/sklearn/linear_model/_coordinate_descent.py:530: ConvergenceWarning: Objective did not converge. You might want to increase the number of iterations. Duality gap: 25.990884563779975, tolerance: 13.814679773195875\n",
      "  model = cd_fast.enet_coordinate_descent(\n",
      "/home/vivien/anaconda3/envs/mlgen/lib/python3.8/site-packages/sklearn/linear_model/_coordinate_descent.py:530: ConvergenceWarning: Objective did not converge. You might want to increase the number of iterations. Duality gap: 23.717180162300792, tolerance: 11.77034608247423\n",
      "  model = cd_fast.enet_coordinate_descent(\n",
      "/home/vivien/anaconda3/envs/mlgen/lib/python3.8/site-packages/sklearn/linear_model/_coordinate_descent.py:530: ConvergenceWarning: Objective did not converge. You might want to increase the number of iterations. Duality gap: 26.97593002342578, tolerance: 14.143505917525772\n",
      "  model = cd_fast.enet_coordinate_descent(\n",
      "/home/vivien/anaconda3/envs/mlgen/lib/python3.8/site-packages/sklearn/linear_model/_coordinate_descent.py:530: ConvergenceWarning: Objective did not converge. You might want to increase the number of iterations. Duality gap: 24.648095897282158, tolerance: 12.768815958762888\n",
      "  model = cd_fast.enet_coordinate_descent(\n",
      "/home/vivien/anaconda3/envs/mlgen/lib/python3.8/site-packages/sklearn/linear_model/_coordinate_descent.py:530: ConvergenceWarning: Objective did not converge. You might want to increase the number of iterations. Duality gap: 24.54551708307466, tolerance: 12.711796489583337\n",
      "  model = cd_fast.enet_coordinate_descent(\n",
      "/home/vivien/anaconda3/envs/mlgen/lib/python3.8/site-packages/sklearn/linear_model/_coordinate_descent.py:530: ConvergenceWarning: Objective did not converge. You might want to increase the number of iterations. Duality gap: 25.70099177788101, tolerance: 13.814679773195875\n",
      "  model = cd_fast.enet_coordinate_descent(\n",
      "/home/vivien/anaconda3/envs/mlgen/lib/python3.8/site-packages/sklearn/linear_model/_coordinate_descent.py:530: ConvergenceWarning: Objective did not converge. You might want to increase the number of iterations. Duality gap: 24.246260721353224, tolerance: 11.77034608247423\n",
      "  model = cd_fast.enet_coordinate_descent(\n",
      "/home/vivien/anaconda3/envs/mlgen/lib/python3.8/site-packages/sklearn/linear_model/_coordinate_descent.py:530: ConvergenceWarning: Objective did not converge. You might want to increase the number of iterations. Duality gap: 27.12699137615124, tolerance: 14.143505917525772\n",
      "  model = cd_fast.enet_coordinate_descent(\n",
      "/home/vivien/anaconda3/envs/mlgen/lib/python3.8/site-packages/sklearn/linear_model/_coordinate_descent.py:530: ConvergenceWarning: Objective did not converge. You might want to increase the number of iterations. Duality gap: 25.103054375590702, tolerance: 12.768815958762888\n",
      "  model = cd_fast.enet_coordinate_descent(\n",
      "/home/vivien/anaconda3/envs/mlgen/lib/python3.8/site-packages/sklearn/linear_model/_coordinate_descent.py:530: ConvergenceWarning: Objective did not converge. You might want to increase the number of iterations. Duality gap: 21.45283270903393, tolerance: 12.711796489583337\n",
      "  model = cd_fast.enet_coordinate_descent(\n",
      "/home/vivien/anaconda3/envs/mlgen/lib/python3.8/site-packages/sklearn/linear_model/_coordinate_descent.py:530: ConvergenceWarning: Objective did not converge. You might want to increase the number of iterations. Duality gap: 21.48728471757317, tolerance: 13.814679773195875\n",
      "  model = cd_fast.enet_coordinate_descent(\n",
      "/home/vivien/anaconda3/envs/mlgen/lib/python3.8/site-packages/sklearn/linear_model/_coordinate_descent.py:530: ConvergenceWarning: Objective did not converge. You might want to increase the number of iterations. Duality gap: 21.339636549030768, tolerance: 11.77034608247423\n",
      "  model = cd_fast.enet_coordinate_descent(\n",
      "/home/vivien/anaconda3/envs/mlgen/lib/python3.8/site-packages/sklearn/linear_model/_coordinate_descent.py:530: ConvergenceWarning: Objective did not converge. You might want to increase the number of iterations. Duality gap: 23.46851375662923, tolerance: 14.143505917525772\n",
      "  model = cd_fast.enet_coordinate_descent(\n"
     ]
    },
    {
     "name": "stderr",
     "output_type": "stream",
     "text": [
      "/home/vivien/anaconda3/envs/mlgen/lib/python3.8/site-packages/sklearn/linear_model/_coordinate_descent.py:530: ConvergenceWarning: Objective did not converge. You might want to increase the number of iterations. Duality gap: 22.737893736547424, tolerance: 12.768815958762888\n",
      "  model = cd_fast.enet_coordinate_descent(\n",
      "/home/vivien/anaconda3/envs/mlgen/lib/python3.8/site-packages/sklearn/linear_model/_coordinate_descent.py:530: ConvergenceWarning: Objective did not converge. You might want to increase the number of iterations. Duality gap: 36.704738799828576, tolerance: 12.711796489583337\n",
      "  model = cd_fast.enet_coordinate_descent(\n",
      "/home/vivien/anaconda3/envs/mlgen/lib/python3.8/site-packages/sklearn/linear_model/_coordinate_descent.py:530: ConvergenceWarning: Objective did not converge. You might want to increase the number of iterations. Duality gap: 39.41717108631791, tolerance: 13.814679773195875\n",
      "  model = cd_fast.enet_coordinate_descent(\n",
      "/home/vivien/anaconda3/envs/mlgen/lib/python3.8/site-packages/sklearn/linear_model/_coordinate_descent.py:530: ConvergenceWarning: Objective did not converge. You might want to increase the number of iterations. Duality gap: 35.781943161567376, tolerance: 11.77034608247423\n",
      "  model = cd_fast.enet_coordinate_descent(\n",
      "/home/vivien/anaconda3/envs/mlgen/lib/python3.8/site-packages/sklearn/linear_model/_coordinate_descent.py:530: ConvergenceWarning: Objective did not converge. You might want to increase the number of iterations. Duality gap: 40.49026266014284, tolerance: 14.143505917525772\n",
      "  model = cd_fast.enet_coordinate_descent(\n",
      "/home/vivien/anaconda3/envs/mlgen/lib/python3.8/site-packages/sklearn/linear_model/_coordinate_descent.py:530: ConvergenceWarning: Objective did not converge. You might want to increase the number of iterations. Duality gap: 37.12258583795799, tolerance: 12.768815958762888\n",
      "  model = cd_fast.enet_coordinate_descent(\n",
      "/home/vivien/anaconda3/envs/mlgen/lib/python3.8/site-packages/sklearn/linear_model/_coordinate_descent.py:530: ConvergenceWarning: Objective did not converge. You might want to increase the number of iterations. Duality gap: 36.861961919678436, tolerance: 12.711796489583337\n",
      "  model = cd_fast.enet_coordinate_descent(\n",
      "/home/vivien/anaconda3/envs/mlgen/lib/python3.8/site-packages/sklearn/linear_model/_coordinate_descent.py:530: ConvergenceWarning: Objective did not converge. You might want to increase the number of iterations. Duality gap: 39.634253816272555, tolerance: 13.814679773195875\n",
      "  model = cd_fast.enet_coordinate_descent(\n",
      "/home/vivien/anaconda3/envs/mlgen/lib/python3.8/site-packages/sklearn/linear_model/_coordinate_descent.py:530: ConvergenceWarning: Objective did not converge. You might want to increase the number of iterations. Duality gap: 36.79219229804582, tolerance: 11.77034608247423\n",
      "  model = cd_fast.enet_coordinate_descent(\n",
      "/home/vivien/anaconda3/envs/mlgen/lib/python3.8/site-packages/sklearn/linear_model/_coordinate_descent.py:530: ConvergenceWarning: Objective did not converge. You might want to increase the number of iterations. Duality gap: 40.94040091609172, tolerance: 14.143505917525772\n",
      "  model = cd_fast.enet_coordinate_descent(\n",
      "/home/vivien/anaconda3/envs/mlgen/lib/python3.8/site-packages/sklearn/linear_model/_coordinate_descent.py:530: ConvergenceWarning: Objective did not converge. You might want to increase the number of iterations. Duality gap: 37.94099887321741, tolerance: 12.768815958762888\n",
      "  model = cd_fast.enet_coordinate_descent(\n",
      "/home/vivien/anaconda3/envs/mlgen/lib/python3.8/site-packages/sklearn/linear_model/_coordinate_descent.py:530: ConvergenceWarning: Objective did not converge. You might want to increase the number of iterations. Duality gap: 31.51583056845584, tolerance: 12.711796489583337\n",
      "  model = cd_fast.enet_coordinate_descent(\n",
      "/home/vivien/anaconda3/envs/mlgen/lib/python3.8/site-packages/sklearn/linear_model/_coordinate_descent.py:530: ConvergenceWarning: Objective did not converge. You might want to increase the number of iterations. Duality gap: 33.62709558092067, tolerance: 13.814679773195875\n",
      "  model = cd_fast.enet_coordinate_descent(\n",
      "/home/vivien/anaconda3/envs/mlgen/lib/python3.8/site-packages/sklearn/linear_model/_coordinate_descent.py:530: ConvergenceWarning: Objective did not converge. You might want to increase the number of iterations. Duality gap: 32.15977342225093, tolerance: 11.77034608247423\n",
      "  model = cd_fast.enet_coordinate_descent(\n",
      "/home/vivien/anaconda3/envs/mlgen/lib/python3.8/site-packages/sklearn/linear_model/_coordinate_descent.py:530: ConvergenceWarning: Objective did not converge. You might want to increase the number of iterations. Duality gap: 35.630231415229645, tolerance: 14.143505917525772\n",
      "  model = cd_fast.enet_coordinate_descent(\n",
      "/home/vivien/anaconda3/envs/mlgen/lib/python3.8/site-packages/sklearn/linear_model/_coordinate_descent.py:530: ConvergenceWarning: Objective did not converge. You might want to increase the number of iterations. Duality gap: 33.8306411459665, tolerance: 12.768815958762888\n",
      "  model = cd_fast.enet_coordinate_descent(\n",
      "/home/vivien/anaconda3/envs/mlgen/lib/python3.8/site-packages/sklearn/linear_model/_coordinate_descent.py:530: ConvergenceWarning: Objective did not converge. You might want to increase the number of iterations. Duality gap: 55.02269160222905, tolerance: 12.711796489583337\n",
      "  model = cd_fast.enet_coordinate_descent(\n",
      "/home/vivien/anaconda3/envs/mlgen/lib/python3.8/site-packages/sklearn/linear_model/_coordinate_descent.py:530: ConvergenceWarning: Objective did not converge. You might want to increase the number of iterations. Duality gap: 59.70860765833797, tolerance: 13.814679773195875\n",
      "  model = cd_fast.enet_coordinate_descent(\n",
      "/home/vivien/anaconda3/envs/mlgen/lib/python3.8/site-packages/sklearn/linear_model/_coordinate_descent.py:530: ConvergenceWarning: Objective did not converge. You might want to increase the number of iterations. Duality gap: 54.38990113044034, tolerance: 11.77034608247423\n",
      "  model = cd_fast.enet_coordinate_descent(\n",
      "/home/vivien/anaconda3/envs/mlgen/lib/python3.8/site-packages/sklearn/linear_model/_coordinate_descent.py:530: ConvergenceWarning: Objective did not converge. You might want to increase the number of iterations. Duality gap: 61.185311197229076, tolerance: 14.143505917525772\n",
      "  model = cd_fast.enet_coordinate_descent(\n",
      "/home/vivien/anaconda3/envs/mlgen/lib/python3.8/site-packages/sklearn/linear_model/_coordinate_descent.py:530: ConvergenceWarning: Objective did not converge. You might want to increase the number of iterations. Duality gap: 55.71099714251177, tolerance: 12.768815958762888\n",
      "  model = cd_fast.enet_coordinate_descent(\n",
      "/home/vivien/anaconda3/envs/mlgen/lib/python3.8/site-packages/sklearn/linear_model/_coordinate_descent.py:530: ConvergenceWarning: Objective did not converge. You might want to increase the number of iterations. Duality gap: 53.64066031034794, tolerance: 12.711796489583337\n",
      "  model = cd_fast.enet_coordinate_descent(\n",
      "/home/vivien/anaconda3/envs/mlgen/lib/python3.8/site-packages/sklearn/linear_model/_coordinate_descent.py:530: ConvergenceWarning: Objective did not converge. You might want to increase the number of iterations. Duality gap: 57.987658121977354, tolerance: 13.814679773195875\n",
      "  model = cd_fast.enet_coordinate_descent(\n",
      "/home/vivien/anaconda3/envs/mlgen/lib/python3.8/site-packages/sklearn/linear_model/_coordinate_descent.py:530: ConvergenceWarning: Objective did not converge. You might want to increase the number of iterations. Duality gap: 53.95685712807981, tolerance: 11.77034608247423\n",
      "  model = cd_fast.enet_coordinate_descent(\n",
      "/home/vivien/anaconda3/envs/mlgen/lib/python3.8/site-packages/sklearn/linear_model/_coordinate_descent.py:530: ConvergenceWarning: Objective did not converge. You might want to increase the number of iterations. Duality gap: 59.84391997478544, tolerance: 14.143505917525772\n",
      "  model = cd_fast.enet_coordinate_descent(\n",
      "/home/vivien/anaconda3/envs/mlgen/lib/python3.8/site-packages/sklearn/linear_model/_coordinate_descent.py:530: ConvergenceWarning: Objective did not converge. You might want to increase the number of iterations. Duality gap: 54.61059108135629, tolerance: 12.768815958762888\n",
      "  model = cd_fast.enet_coordinate_descent(\n"
     ]
    },
    {
     "name": "stderr",
     "output_type": "stream",
     "text": [
      "/home/vivien/anaconda3/envs/mlgen/lib/python3.8/site-packages/sklearn/linear_model/_coordinate_descent.py:530: ConvergenceWarning: Objective did not converge. You might want to increase the number of iterations. Duality gap: 44.308812911879926, tolerance: 12.711796489583337\n",
      "  model = cd_fast.enet_coordinate_descent(\n",
      "/home/vivien/anaconda3/envs/mlgen/lib/python3.8/site-packages/sklearn/linear_model/_coordinate_descent.py:530: ConvergenceWarning: Objective did not converge. You might want to increase the number of iterations. Duality gap: 45.50877678608171, tolerance: 13.814679773195875\n",
      "  model = cd_fast.enet_coordinate_descent(\n",
      "/home/vivien/anaconda3/envs/mlgen/lib/python3.8/site-packages/sklearn/linear_model/_coordinate_descent.py:530: ConvergenceWarning: Objective did not converge. You might want to increase the number of iterations. Duality gap: 43.12280376011209, tolerance: 11.77034608247423\n",
      "  model = cd_fast.enet_coordinate_descent(\n",
      "/home/vivien/anaconda3/envs/mlgen/lib/python3.8/site-packages/sklearn/linear_model/_coordinate_descent.py:530: ConvergenceWarning: Objective did not converge. You might want to increase the number of iterations. Duality gap: 46.78606843047162, tolerance: 14.143505917525772\n",
      "  model = cd_fast.enet_coordinate_descent(\n",
      "/home/vivien/anaconda3/envs/mlgen/lib/python3.8/site-packages/sklearn/linear_model/_coordinate_descent.py:530: ConvergenceWarning: Objective did not converge. You might want to increase the number of iterations. Duality gap: 44.18523569611112, tolerance: 12.768815958762888\n",
      "  model = cd_fast.enet_coordinate_descent(\n",
      "/home/vivien/anaconda3/envs/mlgen/lib/python3.8/site-packages/sklearn/linear_model/_coordinate_descent.py:530: ConvergenceWarning: Objective did not converge. You might want to increase the number of iterations. Duality gap: 83.31313322307925, tolerance: 12.711796489583337\n",
      "  model = cd_fast.enet_coordinate_descent(\n",
      "/home/vivien/anaconda3/envs/mlgen/lib/python3.8/site-packages/sklearn/linear_model/_coordinate_descent.py:530: ConvergenceWarning: Objective did not converge. You might want to increase the number of iterations. Duality gap: 87.027251112732, tolerance: 13.814679773195875\n",
      "  model = cd_fast.enet_coordinate_descent(\n",
      "/home/vivien/anaconda3/envs/mlgen/lib/python3.8/site-packages/sklearn/linear_model/_coordinate_descent.py:530: ConvergenceWarning: Objective did not converge. You might want to increase the number of iterations. Duality gap: 79.19082095937938, tolerance: 11.77034608247423\n",
      "  model = cd_fast.enet_coordinate_descent(\n",
      "/home/vivien/anaconda3/envs/mlgen/lib/python3.8/site-packages/sklearn/linear_model/_coordinate_descent.py:530: ConvergenceWarning: Objective did not converge. You might want to increase the number of iterations. Duality gap: 92.6380299103481, tolerance: 14.143505917525772\n",
      "  model = cd_fast.enet_coordinate_descent(\n",
      "/home/vivien/anaconda3/envs/mlgen/lib/python3.8/site-packages/sklearn/linear_model/_coordinate_descent.py:530: ConvergenceWarning: Objective did not converge. You might want to increase the number of iterations. Duality gap: 81.8078328169662, tolerance: 12.768815958762888\n",
      "  model = cd_fast.enet_coordinate_descent(\n",
      "/home/vivien/anaconda3/envs/mlgen/lib/python3.8/site-packages/sklearn/linear_model/_coordinate_descent.py:530: ConvergenceWarning: Objective did not converge. You might want to increase the number of iterations. Duality gap: 78.98338428985743, tolerance: 12.711796489583337\n",
      "  model = cd_fast.enet_coordinate_descent(\n",
      "/home/vivien/anaconda3/envs/mlgen/lib/python3.8/site-packages/sklearn/linear_model/_coordinate_descent.py:530: ConvergenceWarning: Objective did not converge. You might want to increase the number of iterations. Duality gap: 80.65997314380667, tolerance: 13.814679773195875\n",
      "  model = cd_fast.enet_coordinate_descent(\n",
      "/home/vivien/anaconda3/envs/mlgen/lib/python3.8/site-packages/sklearn/linear_model/_coordinate_descent.py:530: ConvergenceWarning: Objective did not converge. You might want to increase the number of iterations. Duality gap: 71.23037743308049, tolerance: 11.77034608247423\n",
      "  model = cd_fast.enet_coordinate_descent(\n",
      "/home/vivien/anaconda3/envs/mlgen/lib/python3.8/site-packages/sklearn/linear_model/_coordinate_descent.py:530: ConvergenceWarning: Objective did not converge. You might want to increase the number of iterations. Duality gap: 86.30473651036776, tolerance: 14.143505917525772\n",
      "  model = cd_fast.enet_coordinate_descent(\n",
      "/home/vivien/anaconda3/envs/mlgen/lib/python3.8/site-packages/sklearn/linear_model/_coordinate_descent.py:530: ConvergenceWarning: Objective did not converge. You might want to increase the number of iterations. Duality gap: 80.54278257324044, tolerance: 12.768815958762888\n",
      "  model = cd_fast.enet_coordinate_descent(\n",
      "/home/vivien/anaconda3/envs/mlgen/lib/python3.8/site-packages/sklearn/linear_model/_coordinate_descent.py:530: ConvergenceWarning: Objective did not converge. You might want to increase the number of iterations. Duality gap: 54.071386658426114, tolerance: 12.711796489583337\n",
      "  model = cd_fast.enet_coordinate_descent(\n",
      "/home/vivien/anaconda3/envs/mlgen/lib/python3.8/site-packages/sklearn/linear_model/_coordinate_descent.py:530: ConvergenceWarning: Objective did not converge. You might want to increase the number of iterations. Duality gap: 52.77833561546435, tolerance: 13.814679773195875\n",
      "  model = cd_fast.enet_coordinate_descent(\n",
      "/home/vivien/anaconda3/envs/mlgen/lib/python3.8/site-packages/sklearn/linear_model/_coordinate_descent.py:530: ConvergenceWarning: Objective did not converge. You might want to increase the number of iterations. Duality gap: 48.02882778207849, tolerance: 11.77034608247423\n",
      "  model = cd_fast.enet_coordinate_descent(\n",
      "/home/vivien/anaconda3/envs/mlgen/lib/python3.8/site-packages/sklearn/linear_model/_coordinate_descent.py:530: ConvergenceWarning: Objective did not converge. You might want to increase the number of iterations. Duality gap: 62.99083428407196, tolerance: 14.143505917525772\n",
      "  model = cd_fast.enet_coordinate_descent(\n",
      "/home/vivien/anaconda3/envs/mlgen/lib/python3.8/site-packages/sklearn/linear_model/_coordinate_descent.py:530: ConvergenceWarning: Objective did not converge. You might want to increase the number of iterations. Duality gap: 58.521570950246236, tolerance: 12.768815958762888\n",
      "  model = cd_fast.enet_coordinate_descent(\n",
      "/home/vivien/anaconda3/envs/mlgen/lib/python3.8/site-packages/sklearn/linear_model/_coordinate_descent.py:530: ConvergenceWarning: Objective did not converge. You might want to increase the number of iterations. Duality gap: 110.05069354691334, tolerance: 12.711796489583337\n",
      "  model = cd_fast.enet_coordinate_descent(\n",
      "/home/vivien/anaconda3/envs/mlgen/lib/python3.8/site-packages/sklearn/linear_model/_coordinate_descent.py:530: ConvergenceWarning: Objective did not converge. You might want to increase the number of iterations. Duality gap: 113.23672363431348, tolerance: 13.814679773195875\n",
      "  model = cd_fast.enet_coordinate_descent(\n",
      "/home/vivien/anaconda3/envs/mlgen/lib/python3.8/site-packages/sklearn/linear_model/_coordinate_descent.py:530: ConvergenceWarning: Objective did not converge. You might want to increase the number of iterations. Duality gap: 94.58745966428103, tolerance: 11.77034608247423\n",
      "  model = cd_fast.enet_coordinate_descent(\n",
      "/home/vivien/anaconda3/envs/mlgen/lib/python3.8/site-packages/sklearn/linear_model/_coordinate_descent.py:530: ConvergenceWarning: Objective did not converge. You might want to increase the number of iterations. Duality gap: 122.2586426712714, tolerance: 14.143505917525772\n",
      "  model = cd_fast.enet_coordinate_descent(\n",
      "/home/vivien/anaconda3/envs/mlgen/lib/python3.8/site-packages/sklearn/linear_model/_coordinate_descent.py:530: ConvergenceWarning: Objective did not converge. You might want to increase the number of iterations. Duality gap: 105.59366025467405, tolerance: 12.768815958762888\n",
      "  model = cd_fast.enet_coordinate_descent(\n",
      "/home/vivien/anaconda3/envs/mlgen/lib/python3.8/site-packages/sklearn/linear_model/_coordinate_descent.py:530: ConvergenceWarning: Objective did not converge. You might want to increase the number of iterations. Duality gap: 86.3400456768569, tolerance: 12.711796489583337\n",
      "  model = cd_fast.enet_coordinate_descent(\n"
     ]
    },
    {
     "name": "stderr",
     "output_type": "stream",
     "text": [
      "/home/vivien/anaconda3/envs/mlgen/lib/python3.8/site-packages/sklearn/linear_model/_coordinate_descent.py:530: ConvergenceWarning: Objective did not converge. You might want to increase the number of iterations. Duality gap: 86.2301528855668, tolerance: 13.814679773195875\n",
      "  model = cd_fast.enet_coordinate_descent(\n",
      "/home/vivien/anaconda3/envs/mlgen/lib/python3.8/site-packages/sklearn/linear_model/_coordinate_descent.py:530: ConvergenceWarning: Objective did not converge. You might want to increase the number of iterations. Duality gap: 86.73753928155277, tolerance: 11.77034608247423\n",
      "  model = cd_fast.enet_coordinate_descent(\n",
      "/home/vivien/anaconda3/envs/mlgen/lib/python3.8/site-packages/sklearn/linear_model/_coordinate_descent.py:530: ConvergenceWarning: Objective did not converge. You might want to increase the number of iterations. Duality gap: 100.30157162409994, tolerance: 14.143505917525772\n",
      "  model = cd_fast.enet_coordinate_descent(\n",
      "/home/vivien/anaconda3/envs/mlgen/lib/python3.8/site-packages/sklearn/linear_model/_coordinate_descent.py:530: ConvergenceWarning: Objective did not converge. You might want to increase the number of iterations. Duality gap: 83.19633205428994, tolerance: 12.768815958762888\n",
      "  model = cd_fast.enet_coordinate_descent(\n",
      "/home/vivien/anaconda3/envs/mlgen/lib/python3.8/site-packages/sklearn/linear_model/_coordinate_descent.py:530: ConvergenceWarning: Objective did not converge. You might want to increase the number of iterations. Duality gap: 64.80955180362677, tolerance: 12.711796489583337\n",
      "  model = cd_fast.enet_coordinate_descent(\n",
      "/home/vivien/anaconda3/envs/mlgen/lib/python3.8/site-packages/sklearn/linear_model/_coordinate_descent.py:530: ConvergenceWarning: Objective did not converge. You might want to increase the number of iterations. Duality gap: 60.68304491180604, tolerance: 13.814679773195875\n",
      "  model = cd_fast.enet_coordinate_descent(\n",
      "/home/vivien/anaconda3/envs/mlgen/lib/python3.8/site-packages/sklearn/linear_model/_coordinate_descent.py:530: ConvergenceWarning: Objective did not converge. You might want to increase the number of iterations. Duality gap: 63.66388421617653, tolerance: 11.77034608247423\n",
      "  model = cd_fast.enet_coordinate_descent(\n",
      "/home/vivien/anaconda3/envs/mlgen/lib/python3.8/site-packages/sklearn/linear_model/_coordinate_descent.py:530: ConvergenceWarning: Objective did not converge. You might want to increase the number of iterations. Duality gap: 75.47386502624849, tolerance: 14.143505917525772\n",
      "  model = cd_fast.enet_coordinate_descent(\n",
      "/home/vivien/anaconda3/envs/mlgen/lib/python3.8/site-packages/sklearn/linear_model/_coordinate_descent.py:530: ConvergenceWarning: Objective did not converge. You might want to increase the number of iterations. Duality gap: 60.960816352441896, tolerance: 12.768815958762888\n",
      "  model = cd_fast.enet_coordinate_descent(\n",
      "/home/vivien/anaconda3/envs/mlgen/lib/python3.8/site-packages/sklearn/linear_model/_coordinate_descent.py:530: ConvergenceWarning: Objective did not converge. You might want to increase the number of iterations. Duality gap: 107.0502306018148, tolerance: 12.711796489583337\n",
      "  model = cd_fast.enet_coordinate_descent(\n",
      "/home/vivien/anaconda3/envs/mlgen/lib/python3.8/site-packages/sklearn/linear_model/_coordinate_descent.py:530: ConvergenceWarning: Objective did not converge. You might want to increase the number of iterations. Duality gap: 97.06800953029249, tolerance: 13.814679773195875\n",
      "  model = cd_fast.enet_coordinate_descent(\n",
      "/home/vivien/anaconda3/envs/mlgen/lib/python3.8/site-packages/sklearn/linear_model/_coordinate_descent.py:530: ConvergenceWarning: Objective did not converge. You might want to increase the number of iterations. Duality gap: 113.95800605089703, tolerance: 11.77034608247423\n",
      "  model = cd_fast.enet_coordinate_descent(\n",
      "/home/vivien/anaconda3/envs/mlgen/lib/python3.8/site-packages/sklearn/linear_model/_coordinate_descent.py:530: ConvergenceWarning: Objective did not converge. You might want to increase the number of iterations. Duality gap: 114.7870243781109, tolerance: 14.143505917525772\n",
      "  model = cd_fast.enet_coordinate_descent(\n",
      "/home/vivien/anaconda3/envs/mlgen/lib/python3.8/site-packages/sklearn/linear_model/_coordinate_descent.py:530: ConvergenceWarning: Objective did not converge. You might want to increase the number of iterations. Duality gap: 98.29534083899448, tolerance: 12.768815958762888\n",
      "  model = cd_fast.enet_coordinate_descent(\n",
      "/home/vivien/anaconda3/envs/mlgen/lib/python3.8/site-packages/sklearn/linear_model/_coordinate_descent.py:530: ConvergenceWarning: Objective did not converge. You might want to increase the number of iterations. Duality gap: 78.16681073345879, tolerance: 12.711796489583337\n",
      "  model = cd_fast.enet_coordinate_descent(\n",
      "/home/vivien/anaconda3/envs/mlgen/lib/python3.8/site-packages/sklearn/linear_model/_coordinate_descent.py:530: ConvergenceWarning: Objective did not converge. You might want to increase the number of iterations. Duality gap: 68.53582339924836, tolerance: 13.814679773195875\n",
      "  model = cd_fast.enet_coordinate_descent(\n",
      "/home/vivien/anaconda3/envs/mlgen/lib/python3.8/site-packages/sklearn/linear_model/_coordinate_descent.py:530: ConvergenceWarning: Objective did not converge. You might want to increase the number of iterations. Duality gap: 81.82015367023946, tolerance: 11.77034608247423\n",
      "  model = cd_fast.enet_coordinate_descent(\n",
      "/home/vivien/anaconda3/envs/mlgen/lib/python3.8/site-packages/sklearn/linear_model/_coordinate_descent.py:530: ConvergenceWarning: Objective did not converge. You might want to increase the number of iterations. Duality gap: 94.71411524466696, tolerance: 14.143505917525772\n",
      "  model = cd_fast.enet_coordinate_descent(\n",
      "/home/vivien/anaconda3/envs/mlgen/lib/python3.8/site-packages/sklearn/linear_model/_coordinate_descent.py:530: ConvergenceWarning: Objective did not converge. You might want to increase the number of iterations. Duality gap: 75.82640993872825, tolerance: 12.768815958762888\n",
      "  model = cd_fast.enet_coordinate_descent(\n",
      "/home/vivien/anaconda3/envs/mlgen/lib/python3.8/site-packages/sklearn/linear_model/_coordinate_descent.py:530: ConvergenceWarning: Objective did not converge. You might want to increase the number of iterations. Duality gap: 28.280787165673452, tolerance: 12.711796489583337\n",
      "  model = cd_fast.enet_coordinate_descent(\n",
      "/home/vivien/anaconda3/envs/mlgen/lib/python3.8/site-packages/sklearn/linear_model/_coordinate_descent.py:530: ConvergenceWarning: Objective did not converge. You might want to increase the number of iterations. Duality gap: 34.470608150357066, tolerance: 13.814679773195875\n",
      "  model = cd_fast.enet_coordinate_descent(\n",
      "/home/vivien/anaconda3/envs/mlgen/lib/python3.8/site-packages/sklearn/linear_model/_coordinate_descent.py:530: ConvergenceWarning: Objective did not converge. You might want to increase the number of iterations. Duality gap: 29.355966808194363, tolerance: 11.77034608247423\n",
      "  model = cd_fast.enet_coordinate_descent(\n",
      "/home/vivien/anaconda3/envs/mlgen/lib/python3.8/site-packages/sklearn/linear_model/_coordinate_descent.py:530: ConvergenceWarning: Objective did not converge. You might want to increase the number of iterations. Duality gap: 66.53580347138255, tolerance: 14.143505917525772\n",
      "  model = cd_fast.enet_coordinate_descent(\n",
      "/home/vivien/anaconda3/envs/mlgen/lib/python3.8/site-packages/sklearn/linear_model/_coordinate_descent.py:530: ConvergenceWarning: Objective did not converge. You might want to increase the number of iterations. Duality gap: 23.36493618783764, tolerance: 12.768815958762888\n",
      "  model = cd_fast.enet_coordinate_descent(\n",
      "/home/vivien/anaconda3/envs/mlgen/lib/python3.8/site-packages/sklearn/linear_model/_coordinate_descent.py:530: ConvergenceWarning: Objective did not converge. You might want to increase the number of iterations. Duality gap: 162.4828839544567, tolerance: 12.711796489583337\n",
      "  model = cd_fast.enet_coordinate_descent(\n",
      "/home/vivien/anaconda3/envs/mlgen/lib/python3.8/site-packages/sklearn/linear_model/_coordinate_descent.py:530: ConvergenceWarning: Objective did not converge. You might want to increase the number of iterations. Duality gap: 151.9752748080104, tolerance: 13.814679773195875\n",
      "  model = cd_fast.enet_coordinate_descent(\n"
     ]
    },
    {
     "name": "stderr",
     "output_type": "stream",
     "text": [
      "/home/vivien/anaconda3/envs/mlgen/lib/python3.8/site-packages/sklearn/linear_model/_coordinate_descent.py:530: ConvergenceWarning: Objective did not converge. You might want to increase the number of iterations. Duality gap: 147.58112224169474, tolerance: 11.77034608247423\n",
      "  model = cd_fast.enet_coordinate_descent(\n",
      "/home/vivien/anaconda3/envs/mlgen/lib/python3.8/site-packages/sklearn/linear_model/_coordinate_descent.py:530: ConvergenceWarning: Objective did not converge. You might want to increase the number of iterations. Duality gap: 149.74712938486982, tolerance: 14.143505917525772\n",
      "  model = cd_fast.enet_coordinate_descent(\n",
      "/home/vivien/anaconda3/envs/mlgen/lib/python3.8/site-packages/sklearn/linear_model/_coordinate_descent.py:530: ConvergenceWarning: Objective did not converge. You might want to increase the number of iterations. Duality gap: 151.459261981267, tolerance: 12.768815958762888\n",
      "  model = cd_fast.enet_coordinate_descent(\n",
      "/home/vivien/anaconda3/envs/mlgen/lib/python3.8/site-packages/sklearn/linear_model/_coordinate_descent.py:530: ConvergenceWarning: Objective did not converge. You might want to increase the number of iterations. Duality gap: 76.93785761345394, tolerance: 12.711796489583337\n",
      "  model = cd_fast.enet_coordinate_descent(\n",
      "/home/vivien/anaconda3/envs/mlgen/lib/python3.8/site-packages/sklearn/linear_model/_coordinate_descent.py:530: ConvergenceWarning: Objective did not converge. You might want to increase the number of iterations. Duality gap: 103.19078923390953, tolerance: 13.814679773195875\n",
      "  model = cd_fast.enet_coordinate_descent(\n",
      "/home/vivien/anaconda3/envs/mlgen/lib/python3.8/site-packages/sklearn/linear_model/_coordinate_descent.py:530: ConvergenceWarning: Objective did not converge. You might want to increase the number of iterations. Duality gap: 66.31443198932129, tolerance: 11.77034608247423\n",
      "  model = cd_fast.enet_coordinate_descent(\n",
      "/home/vivien/anaconda3/envs/mlgen/lib/python3.8/site-packages/sklearn/linear_model/_coordinate_descent.py:530: ConvergenceWarning: Objective did not converge. You might want to increase the number of iterations. Duality gap: 104.06409609436889, tolerance: 14.143505917525772\n",
      "  model = cd_fast.enet_coordinate_descent(\n",
      "/home/vivien/anaconda3/envs/mlgen/lib/python3.8/site-packages/sklearn/linear_model/_coordinate_descent.py:530: ConvergenceWarning: Objective did not converge. You might want to increase the number of iterations. Duality gap: 64.71398898613087, tolerance: 12.768815958762888\n",
      "  model = cd_fast.enet_coordinate_descent(\n",
      "/home/vivien/anaconda3/envs/mlgen/lib/python3.8/site-packages/sklearn/linear_model/_coordinate_descent.py:530: ConvergenceWarning: Objective did not converge. You might want to increase the number of iterations. Duality gap: 26.694388486901552, tolerance: 13.814679773195875\n",
      "  model = cd_fast.enet_coordinate_descent(\n",
      "/home/vivien/anaconda3/envs/mlgen/lib/python3.8/site-packages/sklearn/linear_model/_coordinate_descent.py:530: ConvergenceWarning: Objective did not converge. You might want to increase the number of iterations. Duality gap: 23.294544530116838, tolerance: 11.77034608247423\n",
      "  model = cd_fast.enet_coordinate_descent(\n",
      "/home/vivien/anaconda3/envs/mlgen/lib/python3.8/site-packages/sklearn/linear_model/_coordinate_descent.py:530: ConvergenceWarning: Objective did not converge. You might want to increase the number of iterations. Duality gap: 27.63192493860665, tolerance: 14.143505917525772\n",
      "  model = cd_fast.enet_coordinate_descent(\n",
      "/home/vivien/anaconda3/envs/mlgen/lib/python3.8/site-packages/sklearn/linear_model/_coordinate_descent.py:530: ConvergenceWarning: Objective did not converge. You might want to increase the number of iterations. Duality gap: 135.03526046060196, tolerance: 12.711796489583337\n",
      "  model = cd_fast.enet_coordinate_descent(\n",
      "/home/vivien/anaconda3/envs/mlgen/lib/python3.8/site-packages/sklearn/linear_model/_coordinate_descent.py:530: ConvergenceWarning: Objective did not converge. You might want to increase the number of iterations. Duality gap: 117.33880627860518, tolerance: 13.814679773195875\n",
      "  model = cd_fast.enet_coordinate_descent(\n",
      "/home/vivien/anaconda3/envs/mlgen/lib/python3.8/site-packages/sklearn/linear_model/_coordinate_descent.py:530: ConvergenceWarning: Objective did not converge. You might want to increase the number of iterations. Duality gap: 137.2327110445293, tolerance: 11.77034608247423\n",
      "  model = cd_fast.enet_coordinate_descent(\n",
      "/home/vivien/anaconda3/envs/mlgen/lib/python3.8/site-packages/sklearn/linear_model/_coordinate_descent.py:530: ConvergenceWarning: Objective did not converge. You might want to increase the number of iterations. Duality gap: 159.66811994419555, tolerance: 14.143505917525772\n",
      "  model = cd_fast.enet_coordinate_descent(\n",
      "/home/vivien/anaconda3/envs/mlgen/lib/python3.8/site-packages/sklearn/linear_model/_coordinate_descent.py:530: ConvergenceWarning: Objective did not converge. You might want to increase the number of iterations. Duality gap: 111.7587763551333, tolerance: 12.768815958762888\n",
      "  model = cd_fast.enet_coordinate_descent(\n",
      "/home/vivien/anaconda3/envs/mlgen/lib/python3.8/site-packages/sklearn/linear_model/_coordinate_descent.py:530: ConvergenceWarning: Objective did not converge. You might want to increase the number of iterations. Duality gap: 80.52462909555994, tolerance: 12.711796489583337\n",
      "  model = cd_fast.enet_coordinate_descent(\n",
      "/home/vivien/anaconda3/envs/mlgen/lib/python3.8/site-packages/sklearn/linear_model/_coordinate_descent.py:530: ConvergenceWarning: Objective did not converge. You might want to increase the number of iterations. Duality gap: 89.7629837919148, tolerance: 13.814679773195875\n",
      "  model = cd_fast.enet_coordinate_descent(\n",
      "/home/vivien/anaconda3/envs/mlgen/lib/python3.8/site-packages/sklearn/linear_model/_coordinate_descent.py:530: ConvergenceWarning: Objective did not converge. You might want to increase the number of iterations. Duality gap: 22.081769445662715, tolerance: 11.77034608247423\n",
      "  model = cd_fast.enet_coordinate_descent(\n",
      "/home/vivien/anaconda3/envs/mlgen/lib/python3.8/site-packages/sklearn/linear_model/_coordinate_descent.py:530: ConvergenceWarning: Objective did not converge. You might want to increase the number of iterations. Duality gap: 54.49814329412531, tolerance: 14.143505917525772\n",
      "  model = cd_fast.enet_coordinate_descent(\n",
      "/home/vivien/anaconda3/envs/mlgen/lib/python3.8/site-packages/sklearn/linear_model/_coordinate_descent.py:530: ConvergenceWarning: Objective did not converge. You might want to increase the number of iterations. Duality gap: 68.62709841468438, tolerance: 12.768815958762888\n",
      "  model = cd_fast.enet_coordinate_descent(\n",
      "/home/vivien/anaconda3/envs/mlgen/lib/python3.8/site-packages/sklearn/linear_model/_coordinate_descent.py:530: ConvergenceWarning: Objective did not converge. You might want to increase the number of iterations. Duality gap: 76.47407193368392, tolerance: 12.711796489583337\n",
      "  model = cd_fast.enet_coordinate_descent(\n",
      "/home/vivien/anaconda3/envs/mlgen/lib/python3.8/site-packages/sklearn/linear_model/_coordinate_descent.py:530: ConvergenceWarning: Objective did not converge. You might want to increase the number of iterations. Duality gap: 75.14160437487288, tolerance: 13.814679773195875\n",
      "  model = cd_fast.enet_coordinate_descent(\n",
      "/home/vivien/anaconda3/envs/mlgen/lib/python3.8/site-packages/sklearn/linear_model/_coordinate_descent.py:530: ConvergenceWarning: Objective did not converge. You might want to increase the number of iterations. Duality gap: 36.77713035528285, tolerance: 11.77034608247423\n",
      "  model = cd_fast.enet_coordinate_descent(\n",
      "/home/vivien/anaconda3/envs/mlgen/lib/python3.8/site-packages/sklearn/linear_model/_coordinate_descent.py:530: ConvergenceWarning: Objective did not converge. You might want to increase the number of iterations. Duality gap: 73.75425066805488, tolerance: 14.143505917525772\n",
      "  model = cd_fast.enet_coordinate_descent(\n",
      "/home/vivien/anaconda3/envs/mlgen/lib/python3.8/site-packages/sklearn/linear_model/_coordinate_descent.py:530: ConvergenceWarning: Objective did not converge. You might want to increase the number of iterations. Duality gap: 39.12176420871329, tolerance: 12.768815958762888\n",
      "  model = cd_fast.enet_coordinate_descent(\n"
     ]
    },
    {
     "name": "stderr",
     "output_type": "stream",
     "text": [
      "/home/vivien/anaconda3/envs/mlgen/lib/python3.8/site-packages/sklearn/linear_model/_coordinate_descent.py:530: ConvergenceWarning: Objective did not converge. You might want to increase the number of iterations. Duality gap: 39.681836793324166, tolerance: 16.34085\n",
      "  model = cd_fast.enet_coordinate_descent(\n"
     ]
    },
    {
     "data": {
      "text/plain": [
       "GridSearchCV(estimator=ElasticNet(),\n",
       "             param_grid={'alpha': array([1.00000000e-04, 2.27584593e-04, 5.17947468e-04, 1.17876863e-03,\n",
       "       2.68269580e-03, 6.10540230e-03, 1.38949549e-02, 3.16227766e-02,\n",
       "       7.19685673e-02, 1.63789371e-01, 3.72759372e-01, 8.48342898e-01,\n",
       "       1.93069773e+00, 4.39397056e+00, 1.00000000e+01]),\n",
       "                         'l1_ratio': array([0.5 , 0.75, 1.  ])},\n",
       "             scoring='explained_variance')"
      ]
     },
     "execution_count": 48,
     "metadata": {},
     "output_type": "execute_result"
    }
   ],
   "source": [
    "enet = linear_model.ElasticNet(fit_intercept=True)\n",
    "model_l1l2 = model_selection.GridSearchCV(enet, \n",
    "                                        param_grid = {'alpha': alphas, \n",
    "                                                    'l1_ratio': ratios}, \n",
    "                                        scoring = 'explained_variance')\n",
    "model_l1l2.fit(X_2W_tr, y_2W_tr)"
   ]
  },
  {
   "cell_type": "code",
   "execution_count": 91,
   "metadata": {},
   "outputs": [
    {
     "data": {
      "text/plain": [
       "(0.0, 9419.0)"
      ]
     },
     "execution_count": 91,
     "metadata": {},
     "output_type": "execute_result"
    },
    {
     "data": {
      "image/png": "[encoded data removed]",
      "text/plain": [
       "<Figure size 432x288 with 1 Axes>"
      ]
     },
     "metadata": {
      "needs_background": "light"
     },
     "output_type": "display_data"
    }
   ],
   "source": [
    "plt.figure(figsize = (6, 4))\n",
    "plt.scatter(range(p), # x = SNP position\n",
    "            model_l1l2.best_estimator_.coef_)  # y = regression weights\n",
    "\n",
    "plt.xlabel(\"SNP\")\n",
    "plt.ylabel(\"elastic net regression weight\")\n",
    "plt.xlim([0, p])"
   ]
  },
  {
   "cell_type": "markdown",
   "metadata": {},
   "source": [
    "__How can you interpret these results? How many SNPs contribute to explaining the phenotype?__"
   ]
  },
  {
   "cell_type": "code",
   "execution_count": 92,
   "metadata": {},
   "outputs": [
    {
     "name": "stdout",
     "output_type": "stream",
     "text": [
      "169 SNPs selected.\n"
     ]
    }
   ],
   "source": [
    "print(\"%d SNPs selected.\" % \\\n",
    "    np.nonzero(model_l1l2.best_estimator_.coef_)[0].shape)"
   ]
  },
  {
   "cell_type": "markdown",
   "metadata": {},
   "source": [
    "### Predictive power "
   ]
  },
  {
   "cell_type": "code",
   "execution_count": 93,
   "metadata": {},
   "outputs": [
    {
     "name": "stdout",
     "output_type": "stream",
     "text": [
      "Percentage of variance explained (using 169 SNPs): 0.60\n"
     ]
    }
   ],
   "source": [
    "y_2W_l1l2_pred = model_l1.best_estimator_.predict(X_2W_te)\n",
    "\n",
    "print(\"Percentage of variance explained (using %d SNPs): %.2f\" % \\\n",
    "     (np.nonzero(model_l1l2.best_estimator_.coef_)[0].shape[0], \n",
    "      metrics.explained_variance_score(y_2W_te, y_2W_l1_pred)))"
   ]
  },
  {
   "cell_type": "code",
   "execution_count": 95,
   "metadata": {},
   "outputs": [
    {
     "data": {
      "text/plain": [
       "(13.95, 125.05)"
      ]
     },
     "execution_count": 95,
     "metadata": {},
     "output_type": "execute_result"
    },
    {
     "data": {
      "image/png": "[encoded data removed]",
      "text/plain": [
       "<Figure size 432x432 with 1 Axes>"
      ]
     },
     "metadata": {
      "needs_background": "light"
     },
     "output_type": "display_data"
    }
   ],
   "source": [
    "plt.figure(figsize = (6, 6))\n",
    "plt.scatter(y_2W_te, y_2W_l1l2_pred)\n",
    "plt.plot([20, 120], [20, 120], c = \"red\")\n",
    "plt.xlabel(\"true phenotype\")\n",
    "plt.ylabel(\"prediction\")\n",
    "plt.xlim([np.min(y_2W_te) - 0.05, np.max(y_2W_te) + 0.05])\n",
    "plt.ylim([np.min(y_2W_te) - 0.05, np.max(y_2W_te) + 0.05])"
   ]
  },
  {
   "cell_type": "markdown",
   "metadata": {},
   "source": [
    "### Stability\n",
    "\n",
    "__How stable is the set of selected SNPs, between the different rounds of cross-validation with optimal parameters?__"
   ]
  },
  {
   "cell_type": "code",
   "execution_count": null,
   "metadata": {},
   "outputs": [],
   "source": []
  },
  {
   "cell_type": "markdown",
   "metadata": {},
   "source": [
    "## Stability selection with the Lasso\n",
    "\n",
    "__Use a randomized procedure to stabilize the lasso__\n",
    "\n",
    "[sklearn.linear_model.RandomizedLasso.html](http://scikit-learn.org/0.18/modules/generated/sklearn.linear_model.RandomizedLasso.html#sklearn.linear_model.RandomizedLasso) + [User Guide](http://scikit-learn.org/0.18/auto_examples/linear_model/plot_sparse_recovery.html)"
   ]
  },
  {
   "cell_type": "code",
   "execution_count": null,
   "metadata": {},
   "outputs": [],
   "source": []
  },
  {
   "cell_type": "markdown",
   "metadata": {},
   "source": [
    "## Network-constrained lasso\n",
    "\n",
    "This is not implemented in scikit-learn, so we'll need to create our own estimator.\n",
    "\n",
    "It turns out that it is possible to transform the network-constrained Lasso problem into a Lasso problem: follow [the original paper](https://academic.oup.com/bioinformatics/article/24/9/1175/206444) (pdf also available [here](http://www.stat.purdue.edu/~doerge/BIOINFORM.D/FALL10/Li_and_Li_2008_Bioinformatics.pdf) and the note in section C of [the supplementary material of Sugiyama et al. (2014)](http://cazencott.info/dotclear/public/publications/sugiyama2014_supp.pdf) to replace the eigen-decomposition of the graph Laplacian with the graph incidence matrix.\n",
    "\n",
    "Follow the [documentation](http://scikit-learn.org/stable/developers/contributing.html#rolling-your-own-estimator) or this [blog post](http://danielhnyk.cz/creating-your-own-estimator-scikit-learn/) to create a scikit-learn estimator.\n",
    "\n",
    "Be careful: the computations might require a lot of RAM."
   ]
  },
  {
   "cell_type": "markdown",
   "metadata": {},
   "source": [
    "### Load the network"
   ]
  },
  {
   "cell_type": "code",
   "execution_count": 96,
   "metadata": {},
   "outputs": [],
   "source": [
    "from scipy import sparse"
   ]
  },
  {
   "cell_type": "code",
   "execution_count": 97,
   "metadata": {},
   "outputs": [],
   "source": [
    "w_saved = np.loadtxt('data/athaliana_small.W.txt')"
   ]
  },
  {
   "cell_type": "code",
   "execution_count": 98,
   "metadata": {},
   "outputs": [],
   "source": [
    "W = sparse.coo_matrix((w_saved[2, :], (np.array(w_saved[0, :], dtype = int), \n",
    "                                       np.array(w_saved[1, :], dtype = int))), \n",
    "                      shape = (p, p))"
   ]
  },
  {
   "cell_type": "markdown",
   "metadata": {},
   "source": [
    "### Build the incidence matrix"
   ]
  },
  {
   "cell_type": "code",
   "execution_count": 99,
   "metadata": {},
   "outputs": [],
   "source": [
    "# Compute node degrees \n",
    "degrees = np.zeros((p, ))\n",
    "for vertex in W.row:\n",
    "    degrees[vertex] += 2"
   ]
  },
  {
   "cell_type": "code",
   "execution_count": 103,
   "metadata": {},
   "outputs": [
    {
     "data": {
      "text/plain": [
       "array([   0,    0,    0, ..., 9418, 9418, 9418], dtype=int32)"
      ]
     },
     "execution_count": 103,
     "metadata": {},
     "output_type": "execute_result"
    }
   ],
   "source": [
    "W.row"
   ]
  },
  {
   "cell_type": "code",
   "execution_count": 104,
   "metadata": {},
   "outputs": [],
   "source": [
    "tim = sparse.lil_matrix((W.row.shape[0], p))\n",
    "for ix, edge in enumerate(W.data):\n",
    "    tim[ix, W.row[ix]] = np.sqrt(edge / degrees[W.row[ix]])\n",
    "    tim[ix, W.col[ix]] = - np.sqrt(edge / degrees[W.col[ix]])"
   ]
  },
  {
   "cell_type": "markdown",
   "metadata": {},
   "source": [
    "### Create the network-constrained Lasso class"
   ]
  },
  {
   "cell_type": "code",
   "execution_count": 108,
   "metadata": {},
   "outputs": [],
   "source": [
    "from sklearn import base, linear_model"
   ]
  },
  {
   "cell_type": "code",
   "execution_count": 109,
   "metadata": {},
   "outputs": [],
   "source": [
    "class ncLasso(base.BaseEstimator, base.RegressorMixin):\n",
    "    def __init__(self, transposed_incidence = None, lambda1 = 1.0, lambda2 = 1.0):\n",
    "        self.transposed_incidence = transposed_incidence # sparse matrix\n",
    "        self.lambda1 = lambda1\n",
    "        self.lambda2 = lambda2\n",
    "        \n",
    "    def fit(self, X, y):       \n",
    "        alpha = self.lambda1/(np.sqrt(self.lambda2 + 1.))\n",
    "        self.lasso = linear_model.Lasso(fit_intercept = True, alpha = alpha)\n",
    "        \n",
    "        \n",
    "        y_new = np.hstack((y, np.zeros((self.transposed_incidence.shape[0], ))))\n",
    "        print(y_new.shape, X.shape)\n",
    "        X_new = 1 / (np.sqrt(self.lambda2 + 1)) * sparse.vstack((X, np.sqrt(self.lambda2) *\\\n",
    "                                                    self.transposed_incidence))\n",
    "        \n",
    "        \n",
    "        self.lasso.fit(X_new, y_new)\n",
    "        self.coef_ = self.lasso.coef_[:X.shape[1]] / (np.sqrt(self.lambda2 + 1))\n",
    "        return self\n",
    "        \n",
    "        \n",
    "    def predict(self, X, y = None):\n",
    "        return self.lasso.predict(X)\n",
    "    \n",
    "    \n",
    "    def score(self, X, y = None):\n",
    "        return self.lasso.score(X, y)                                        "
   ]
  },
  {
   "cell_type": "markdown",
   "metadata": {},
   "source": [
    "__Use the network-constrained Lasso on the data. What do you observe?__"
   ]
  },
  {
   "cell_type": "code",
   "execution_count": 112,
   "metadata": {},
   "outputs": [
    {
     "name": "stdout",
     "output_type": "stream",
     "text": [
      "(1291764,) (121, 9419)\n"
     ]
    },
    {
     "data": {
      "text/plain": [
       "ncLasso(lambda1=1, lambda2=1,\n",
       "        transposed_incidence=<1291643x9419 sparse matrix of type '<class 'numpy.float64'>'\n",
       "\twith 2582679 stored elements in List of Lists format>)"
      ]
     },
     "execution_count": 112,
     "metadata": {},
     "output_type": "execute_result"
    }
   ],
   "source": [
    "nclasso_model = ncLasso(tim, 1, 1)\n",
    "nclasso_model.fit(X_2W_tr, y_2W_tr)"
   ]
  },
  {
   "cell_type": "code",
   "execution_count": 114,
   "metadata": {},
   "outputs": [
    {
     "ename": "AttributeError",
     "evalue": "'ncLasso' object has no attribute 'best_estimator_'",
     "output_type": "error",
     "traceback": [
      "\u001b[0;31m---------------------------------------------------------------------------\u001b[0m",
      "\u001b[0;31mAttributeError\u001b[0m                            Traceback (most recent call last)",
      "\u001b[0;32m<ipython-input-114-6109da856582>\u001b[0m in \u001b[0;36m<module>\u001b[0;34m\u001b[0m\n\u001b[1;32m      1\u001b[0m \u001b[0mplt\u001b[0m\u001b[0;34m.\u001b[0m\u001b[0mfigure\u001b[0m\u001b[0;34m(\u001b[0m\u001b[0mfigsize\u001b[0m \u001b[0;34m=\u001b[0m \u001b[0;34m(\u001b[0m\u001b[0;36m6\u001b[0m\u001b[0;34m,\u001b[0m \u001b[0;36m4\u001b[0m\u001b[0;34m)\u001b[0m\u001b[0;34m)\u001b[0m\u001b[0;34m\u001b[0m\u001b[0;34m\u001b[0m\u001b[0m\n\u001b[1;32m      2\u001b[0m plt.scatter(range(p), # x = SNP position\n\u001b[0;32m----> 3\u001b[0;31m             nclasso_model.best_estimator_.coef_)  # y = regression weights\n\u001b[0m\u001b[1;32m      4\u001b[0m \u001b[0;34m\u001b[0m\u001b[0m\n\u001b[1;32m      5\u001b[0m \u001b[0mplt\u001b[0m\u001b[0;34m.\u001b[0m\u001b[0mxlabel\u001b[0m\u001b[0;34m(\u001b[0m\u001b[0;34m\"SNP\"\u001b[0m\u001b[0;34m)\u001b[0m\u001b[0;34m\u001b[0m\u001b[0;34m\u001b[0m\u001b[0m\n",
      "\u001b[0;31mAttributeError\u001b[0m: 'ncLasso' object has no attribute 'best_estimator_'"
     ]
    },
    {
     "data": {
      "text/plain": [
       "<Figure size 432x288 with 0 Axes>"
      ]
     },
     "metadata": {},
     "output_type": "display_data"
    }
   ],
   "source": [
    "plt.figure(figsize = (6, 4))\n",
    "plt.scatter(range(p), # x = SNP position\n",
    "            nclasso_model.best_estimator_.coef_)  # y = regression weights\n",
    "\n",
    "plt.xlabel(\"SNP\")\n",
    "plt.ylabel(\"elastic net regression weight\")\n",
    "plt.xlim([0, p])"
   ]
  },
  {
   "cell_type": "markdown",
   "metadata": {},
   "source": [
    "If you want to use SConES/sfan, see [github/chagaz/sfan](https://github.com/chagaz/sfan). The StructuredSparsity notebook can help."
   ]
  },
  {
   "cell_type": "code",
   "execution_count": null,
   "metadata": {},
   "outputs": [],
   "source": []
  },
  {
   "cell_type": "markdown",
   "metadata": {},
   "source": [
    "## Multi-task feature selection"
   ]
  },
  {
   "cell_type": "markdown",
   "metadata": {},
   "source": [
    "1) Repeat the previous analysis for the 4W phenotype. It is very similar to the 2W phenotype, except that the seeds have been vernelized for 4 weeks. \n",
    "\n",
    "2) It is not unreasonable to expect the genomic regions driving both those phenotypes to be (almost) the same. Use the multi-task version of the Lasso, ENet, or ncLasso algorithms to analyzed both phenotypes simultaneously.\n",
    "\n",
    "Use [sklearn.linear_model.MultiTaskLasso](http://scikit-learn.org/stable/modules/generated/sklearn.linear_model.MultiTaskLasso.html#sklearn.linear_model.MultiTaskLasso) + [User Guide](http://scikit-learn.org/stable/auto_examples/linear_model/plot_multi_task_lasso_support.html)"
   ]
  },
  {
   "cell_type": "code",
   "execution_count": null,
   "metadata": {},
   "outputs": [],
   "source": []
  }
 ],
 "metadata": {
  "kernelspec": {
   "display_name": "Python 3",
   "language": "python",
   "name": "python3"
  },
  "language_info": {
   "codemirror_mode": {
    "name": "ipython",
    "version": 3
   },
   "file_extension": ".py",
   "mimetype": "text/x-python",
   "name": "python",
   "nbconvert_exporter": "python",
   "pygments_lexer": "ipython3",
   "version": "3.8.8"
  }
 },
 "nbformat": 4,
 "nbformat_minor": 2
}
